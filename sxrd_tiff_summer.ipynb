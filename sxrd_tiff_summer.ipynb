{
 "cells": [
  {
   "cell_type": "markdown",
   "metadata": {},
   "source": [
    "## Imports"
   ]
  },
  {
   "cell_type": "code",
   "execution_count": null,
   "metadata": {},
   "outputs": [],
   "source": [
    "import numpy as np\n",
    "import matplotlib.pyplot as plt\n",
    "import warnings\n",
    "warnings.simplefilter('ignore')\n",
    "from skimage import io\n",
    "import pathlib\n",
    "from tqdm import tqdm\n",
    "import os\n",
    "import yaml\n",
    "from typing import Tuple\n",
    "from typing import List\n",
    "\n",
    "import sxrd_tiff_summer_functions as analysis\n",
    "\n",
    "%matplotlib inline\n",
    "%load_ext autoreload\n",
    "%autoreload 2"
   ]
  },
  {
   "cell_type": "markdown",
   "metadata": {},
   "source": [
    "## Plot a single image"
   ]
  },
  {
   "cell_type": "markdown",
   "metadata": {},
   "source": [
    "A single tiff image can be plotted like this."
   ]
  },
  {
   "cell_type": "code",
   "execution_count": null,
   "metadata": {},
   "outputs": [],
   "source": [
    "image = io.imread(\"example-data/series_1/00001_00000.tiff\")\n",
    "plt.imshow(image, cmap='gray', vmin = 0, vmax = 500);"
   ]
  },
  {
   "cell_type": "markdown",
   "metadata": {},
   "source": [
    "The intensity values at each pixel point can be written to an array and displayed like this."
   ]
  },
  {
   "cell_type": "code",
   "execution_count": null,
   "metadata": {
    "scrolled": false
   },
   "outputs": [],
   "source": [
    "image_array = np.array(image, dtype='int32')\n",
    "print(image_array)"
   ]
  },
  {
   "cell_type": "markdown",
   "metadata": {},
   "source": [
    "*Note, to save this intensity data as a tiff image it will need to be 'int32' format.*"
   ]
  },
  {
   "cell_type": "code",
   "execution_count": null,
   "metadata": {},
   "outputs": [],
   "source": [
    "image_array.dtype"
   ]
  },
  {
   "cell_type": "markdown",
   "metadata": {},
   "source": [
    "## Average multiple images (example)"
   ]
  },
  {
   "cell_type": "markdown",
   "metadata": {},
   "source": [
    "We can use the `avg_tiff_images` function to sum up the intensity values from a series of tiff images and divide by the total number of images, producing an average tiff image.\n",
    "\n",
    "*Note, the final image appear greyed out compared to the single tiff image, as this is summing up weak diffraction pattern rings and residual intensity from the background.*"
   ]
  },
  {
   "cell_type": "code",
   "execution_count": null,
   "metadata": {
    "scrolled": true
   },
   "outputs": [],
   "source": [
    "experiment_name = \"103845\"\n",
    "input_filepath = \"example-data/series_1/\"\n",
    "output_filepath = \"example-results/\"\n",
    "v_max = 500\n",
    "\n",
    "analysis.avg_tiff_images(experiment_name, input_filepath, output_filepath, v_max)"
   ]
  },
  {
   "cell_type": "markdown",
   "metadata": {},
   "source": [
    "We can reload this summed/avergaed tiff image to check the image properties."
   ]
  },
  {
   "cell_type": "code",
   "execution_count": null,
   "metadata": {},
   "outputs": [],
   "source": [
    "image = io.imread(f\"{output_filepath}{experiment_name}_summed1.tiff\")\n",
    "plt.imshow(image, cmap='gray', vmin = 0, vmax = 500);\n",
    "image_array = np.array(image, dtype='int32')\n",
    "print(image_array)\n",
    "image_array.dtype"
   ]
  },
  {
   "cell_type": "markdown",
   "metadata": {},
   "source": [
    "## Average multiple images"
   ]
  },
  {
   "cell_type": "markdown",
   "metadata": {},
   "source": [
    "The file paths and user inputs for the analysis of the Diamond 2021 experiment are included in the `yaml` configuration files, to record the inputs of the analysis.\n",
    "\n",
    "The information in the `yaml` file can be accessed like this."
   ]
  },
  {
   "cell_type": "code",
   "execution_count": null,
   "metadata": {},
   "outputs": [],
   "source": [
    "# to load the Diamond 2021 analysis\n",
    "config_path = \"yaml/config_diamond_2021.yaml\"\n",
    "config = analysis.get_config(config_path)"
   ]
  },
  {
   "cell_type": "markdown",
   "metadata": {},
   "source": [
    "We can loop through multiple experiments, creating an average tiff image from each series of patterns contained within each of the experiments, using the `multiple_avg_tiff_images` function."
   ]
  },
  {
   "cell_type": "code",
   "execution_count": null,
   "metadata": {
    "scrolled": true
   },
   "outputs": [],
   "source": [
    "experiment_numbers, input_path, output_path, background_scatter_path, background_scatter_multiple = analysis.extract_input(config_path)\n",
    "v_max = 500\n",
    "\n",
    "analysis.multiple_avg_tiff_images(experiment_numbers, input_path, output_path, v_max)"
   ]
  },
  {
   "cell_type": "markdown",
   "metadata": {},
   "source": [
    "We can reload these summed/averaged tiff images to check the image properties."
   ]
  },
  {
   "cell_type": "code",
   "execution_count": null,
   "metadata": {},
   "outputs": [],
   "source": [
    "output_filepath = output_path.format(experiment_number = experiment_numbers[0])\n",
    "image=io.imread(f\"{output_filepath}{experiment_numbers[0]}_summed1.tiff\")\n",
    "plt.imshow(image, cmap='gray', vmin = 0, vmax = 500);\n",
    "\n",
    "image_array = np.array(image, dtype='int32')\n",
    "print(image_array)\n",
    "image_array.dtype"
   ]
  },
  {
   "cell_type": "markdown",
   "metadata": {},
   "source": [
    "## Subtract images (example)"
   ]
  },
  {
   "cell_type": "markdown",
   "metadata": {},
   "source": [
    "We can use the `subtract_tiff_images` function to subtract certain intensity values from a series of tiff images, producing a series of subtracted tiff images. \n",
    "\n",
    "This is particularly important for removing things like background scattering from the data.\n",
    "\n",
    "*Note, this function now includes a file path to an image measuring the background scattering, which we will now subtract from the rest of the data. It is also possible to adjust the intensity values of the background scattering data to match the acquisition frequency of the data.*"
   ]
  },
  {
   "cell_type": "code",
   "execution_count": null,
   "metadata": {},
   "outputs": [],
   "source": [
    "experiment_name = \"108849\"\n",
    "background_scatter_filepath = \"example-data/background_scatter/00001.tif\"\n",
    "background_scatter_multiple = 1\n",
    "input_filepath = \"example-data/series_2/\"\n",
    "output_filepath = \"example-results/\"\n",
    "v_max = 500\n",
    "\n",
    "analysis.subtract_tiff_images(experiment_name, background_scatter_filepath, background_scatter_multiple,\n",
    "                              input_filepath, output_filepath, v_max)"
   ]
  },
  {
   "cell_type": "markdown",
   "metadata": {},
   "source": [
    "We can reload this subtracted tiff image to check the image properties."
   ]
  },
  {
   "cell_type": "code",
   "execution_count": null,
   "metadata": {},
   "outputs": [],
   "source": [
    "image = io.imread(f\"{output_filepath}{experiment_name}_subtracted_00010.tif\")\n",
    "plt.imshow(image, cmap='gray', vmin = 0, vmax = 500);\n",
    "image_array = np.array(image, dtype='int32')\n",
    "print(image_array)\n",
    "image_array.dtype"
   ]
  },
  {
   "cell_type": "markdown",
   "metadata": {},
   "source": [
    "## Subtract multiple images"
   ]
  },
  {
   "cell_type": "markdown",
   "metadata": {},
   "source": [
    "We can loop through multiple experiments, creating subtracted tiff images from each image contained within each of the experiments, using the `multiple_subtract_tiff_images` function."
   ]
  },
  {
   "cell_type": "code",
   "execution_count": null,
   "metadata": {},
   "outputs": [],
   "source": [
    "# to load the Diamond 2021 analysis\n",
    "config_path = \"yaml/config_diamond_2021_fast_det.yaml\"\n",
    "config = analysis.get_config(config_path)\n",
    "\n",
    "experiment_numbers, input_path, output_path, background_scatter_path, background_scatter_multiple = analysis.extract_input(config_path)\n",
    "v_max = 4000\n",
    "\n",
    "analysis.multiple_subtract_tiff_images(experiment_numbers, background_scatter_path, background_scatter_multiple, input_path, output_path, v_max)"
   ]
  },
  {
   "cell_type": "markdown",
   "metadata": {},
   "source": [
    "We can reload these subtracted tiff image to check the image properties."
   ]
  },
  {
   "cell_type": "code",
   "execution_count": null,
   "metadata": {},
   "outputs": [],
   "source": [
    "output_filepath = output_path.format(experiment_number = experiment_numbers[0])\n",
    "image=io.imread(f\"{output_filepath}{experiment_numbers[0]}_subtracted_00001.tif\")\n",
    "plt.imshow(image, cmap='gray', vmin = 0, vmax = 100);\n",
    "\n",
    "image_array = np.array(image, dtype='int32')\n",
    "print(image_array)\n",
    "image_array.dtype"
   ]
  },
  {
   "cell_type": "code",
   "execution_count": null,
   "metadata": {},
   "outputs": [],
   "source": []
  }
 ],
 "metadata": {
  "kernelspec": {
   "display_name": "Python 3 (ipykernel)",
   "language": "python",
   "name": "python3"
  },
  "language_info": {
   "codemirror_mode": {
    "name": "ipython",
    "version": 3
   },
   "file_extension": ".py",
   "mimetype": "text/x-python",
   "name": "python",
   "nbconvert_exporter": "python",
   "pygments_lexer": "ipython3",
   "version": "3.7.3"
  }
 },
 "nbformat": 4,
 "nbformat_minor": 4
}
