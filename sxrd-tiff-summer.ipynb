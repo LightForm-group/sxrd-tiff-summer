{
 "cells": [
  {
   "cell_type": "markdown",
   "metadata": {},
   "source": [
    "## Imports"
   ]
  },
  {
   "cell_type": "code",
   "execution_count": null,
   "metadata": {},
   "outputs": [],
   "source": [
    "import numpy as np\n",
    "import matplotlib.pyplot as plt\n",
    "%matplotlib inline\n",
    "import warnings\n",
    "warnings.simplefilter('ignore')\n",
    "from skimage import io\n",
    "import pathlib\n",
    "from tqdm import tqdm\n",
    "import os"
   ]
  },
  {
   "cell_type": "markdown",
   "metadata": {},
   "source": [
    "## Plot a single image"
   ]
  },
  {
   "cell_type": "code",
   "execution_count": null,
   "metadata": {},
   "outputs": [],
   "source": [
    "image = io.imread('example data/00001_00000.tiff')\n",
    "plt.imshow(image, cmap='gray', vmin = 0, vmax = 500);"
   ]
  },
  {
   "cell_type": "code",
   "execution_count": null,
   "metadata": {
    "scrolled": true
   },
   "outputs": [],
   "source": [
    "image_array = np.array(image, dtype='int32')\n",
    "print(image_array)"
   ]
  },
  {
   "cell_type": "code",
   "execution_count": null,
   "metadata": {},
   "outputs": [],
   "source": [
    "image_array.dtype"
   ]
  },
  {
   "cell_type": "markdown",
   "metadata": {},
   "source": [
    "## Average multiple images (example)"
   ]
  },
  {
   "cell_type": "code",
   "execution_count": null,
   "metadata": {},
   "outputs": [],
   "source": [
    "def avg_tiff_images(experiment_name: str, input_filepath: str, output_filepath: str):\n",
    "    '''This function sums up the intensities of all the tiff images contained in the input folder\n",
    "    and saves a single average tiff image to the output folder\n",
    "    '''\n",
    "\n",
    "    image_list = sorted(pathlib.Path(input_filepath).glob(\"0*.tiff\"))\n",
    "    image_example = io.imread(image_list[1])\n",
    "    image_array = np.empty(shape=np.shape(image_example), dtype='int32')\n",
    "\n",
    "    for image_path in tqdm(image_list):\n",
    "        image_array = image_array + np.array(io.imread(image_path))\n",
    "\n",
    "    image_array = image_array / len(image_list)\n",
    "    # convert to integer 32 bit array\n",
    "    image_array = image_array.astype('int32')\n",
    "    plt.imshow(image_array, cmap='gray', vmin = 0, vmax = 500);\n",
    "    \n",
    "    # check if the output directory exists and if not create it\n",
    "    CHECK_FOLDER = os.path.isdir(f\"{output_filepath}\")\n",
    "\n",
    "    if not CHECK_FOLDER:\n",
    "        os.makedirs(f\"{output_filepath}\")\n",
    "        print(f\"created folder : '{output_filepath}'.\")\n",
    "\n",
    "    else:\n",
    "        print(f\"'{output_filepath}' folder already exists.\")\n",
    "\n",
    "    # save the image\n",
    "    io.imsave(f\"{output_filepath}{experiment_name}_summed.tiff\", image_array)\n",
    "    \n",
    "    print(f\"Written .tiff image to: '{output_filepath}'.\")"
   ]
  },
  {
   "cell_type": "code",
   "execution_count": null,
   "metadata": {},
   "outputs": [],
   "source": [
    "experiment_name = '103845'\n",
    "input_filepath = 'example data/'\n",
    "output_filepath = 'example result/'\n",
    "\n",
    "avg_tiff_images(experiment_name, input_filepath, output_filepath)"
   ]
  },
  {
   "cell_type": "code",
   "execution_count": null,
   "metadata": {},
   "outputs": [],
   "source": [
    "image = io.imread(f\"{output_filepath}{experiment_name}_summed.tiff\")\n",
    "plt.imshow(image, cmap='gray', vmin = 0, vmax = 500);\n",
    "image.dtype"
   ]
  },
  {
   "cell_type": "markdown",
   "metadata": {},
   "source": [
    "## Average multiple images"
   ]
  },
  {
   "cell_type": "code",
   "execution_count": null,
   "metadata": {},
   "outputs": [],
   "source": [
    "pwd"
   ]
  },
  {
   "cell_type": "code",
   "execution_count": null,
   "metadata": {
    "scrolled": false
   },
   "outputs": [],
   "source": [
    "experiment_number_start = 103828\n",
    "experiment_number_end = 103851\n",
    "\n",
    "for experiment_number in range (experiment_number_start, experiment_number_end + 1):\n",
    "    experiment_name = str(experiment_number)\n",
    "    input_filepath = f\"../../SXRD_raw_data/diamond_2021/rawdata_tiffs/{experiment_name}_tiffs/\"\n",
    "    output_filepath = f\"../../SXRD_analysis/diamond_2021/{experiment_name}/texture-cpf/\" \n",
    "    avg_tiff_images(experiment_name, input_filepath, output_filepath)"
   ]
  },
  {
   "cell_type": "code",
   "execution_count": null,
   "metadata": {},
   "outputs": [],
   "source": [
    "experiment_name = '103851'\n",
    "\n",
    "image=io.imread(f\"../../SXRD_analysis/diamond_2021/{experiment_name}/texture-cpf/{experiment_name}_summed.tiff\")\n",
    "plt.imshow(image, cmap='gray', vmin = 0, vmax = 500);\n",
    "image.dtype"
   ]
  },
  {
   "cell_type": "code",
   "execution_count": null,
   "metadata": {},
   "outputs": [],
   "source": []
  }
 ],
 "metadata": {
  "kernelspec": {
   "display_name": "Python 3 (ipykernel)",
   "language": "python",
   "name": "python3"
  },
  "language_info": {
   "codemirror_mode": {
    "name": "ipython",
    "version": 3
   },
   "file_extension": ".py",
   "mimetype": "text/x-python",
   "name": "python",
   "nbconvert_exporter": "python",
   "pygments_lexer": "ipython3",
   "version": "3.8.10"
  }
 },
 "nbformat": 4,
 "nbformat_minor": 4
}
