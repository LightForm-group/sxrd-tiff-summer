{
 "cells": [
  {
   "cell_type": "markdown",
   "metadata": {},
   "source": [
    "## Imports"
   ]
  },
  {
   "cell_type": "code",
   "execution_count": null,
   "metadata": {
    "scrolled": true
   },
   "outputs": [],
   "source": [
    "import numpy as np\n",
    "import matplotlib.pyplot as plt\n",
    "import warnings\n",
    "warnings.simplefilter('ignore')\n",
    "from skimage import io\n",
    "import pathlib\n",
    "from tqdm import tqdm\n",
    "import os\n",
    "import yaml\n",
    "from typing import Tuple\n",
    "from typing import List\n",
    "\n",
    "import sxrd_tiff_summer_functions as analysis\n",
    "import sxrd_tiff_mapper_functions as grid_analysis\n",
    "\n",
    "%matplotlib inline\n",
    "%load_ext autoreload\n",
    "%autoreload 2"
   ]
  },
  {
   "cell_type": "markdown",
   "metadata": {},
   "source": [
    "## Plot a single image"
   ]
  },
  {
   "cell_type": "markdown",
   "metadata": {},
   "source": [
    "A single tiff image can be plotted like this."
   ]
  },
  {
   "cell_type": "code",
   "execution_count": null,
   "metadata": {
    "scrolled": true
   },
   "outputs": [],
   "source": [
    "image = io.imread(\"example-data/series_1/00001_00000.tiff\")\n",
    "plt.imshow(image, cmap='gray', vmin = 0, vmax = 500);"
   ]
  },
  {
   "cell_type": "markdown",
   "metadata": {},
   "source": [
    "The intensity values at each pixel point can be written to an array and displayed like this."
   ]
  },
  {
   "cell_type": "code",
   "execution_count": null,
   "metadata": {
    "scrolled": true
   },
   "outputs": [],
   "source": [
    "image_array = np.array(image, dtype='int32')\n",
    "print(image_array)"
   ]
  },
  {
   "cell_type": "markdown",
   "metadata": {},
   "source": [
    "## Get the max. and avg. intensity values"
   ]
  },
  {
   "cell_type": "markdown",
   "metadata": {},
   "source": [
    "The maximum and average intensity values from the diffraction pattern image can easily be calculated like this."
   ]
  },
  {
   "cell_type": "code",
   "execution_count": null,
   "metadata": {
    "scrolled": true
   },
   "outputs": [],
   "source": [
    "max_image = np.max(image_array)\n",
    "print(\"The maximum intensity value is \", max_image, end = \"\\n\\n\")\n",
    "\n",
    "avg_image = np.average(image_array)\n",
    "print(\"The average intensity value is \", avg_image, end = \"\\n\\n\")"
   ]
  },
  {
   "cell_type": "markdown",
   "metadata": {},
   "source": [
    "## Plot an intensity grid from a series of tiffs (example)"
   ]
  },
  {
   "cell_type": "markdown",
   "metadata": {},
   "source": [
    "Using the `grid_tiff_intensity` function we can calculate the maximum and average intensities from a series of diffraction pattern images, and then plot the intensities as a grid of spatial (X,Y) measurement points, with a defined size."
   ]
  },
  {
   "cell_type": "code",
   "execution_count": null,
   "metadata": {
    "scrolled": true
   },
   "outputs": [],
   "source": [
    "experiment_number = \"103845\"\n",
    "input_filepath = \"example-data/series_1/\"\n",
    "output_filepath = \"example-results/\"\n",
    "\n",
    "shape_x = 5\n",
    "shape_y = 2\n",
    "c_map = \"Reds\"\n",
    "\n",
    "grid_analysis.grid_tiff_intensity(experiment_number, input_filepath, output_filepath, \n",
    "                                  shape_x, shape_y, c_map)"
   ]
  },
  {
   "cell_type": "markdown",
   "metadata": {},
   "source": [
    "## Plot an intensity grid from a series of tiffs"
   ]
  },
  {
   "cell_type": "markdown",
   "metadata": {},
   "source": [
    "The file paths and user inputs for the analysis of the Diamond 2021 and 2022 experiment are included in the `yaml` configuration files, to record the inputs of the analysis.\n",
    "\n",
    "The information in the `yaml` file can be accessed like this."
   ]
  },
  {
   "cell_type": "code",
   "execution_count": null,
   "metadata": {
    "scrolled": true
   },
   "outputs": [],
   "source": [
    "# to load the Diamond 2021 analysis\n",
    "config_path = \"yaml/config_diamond_2022_additional_112748.yaml\"\n",
    "config = analysis.get_config(config_path)"
   ]
  },
  {
   "cell_type": "markdown",
   "metadata": {},
   "source": [
    "We can load the parameters for our analysis using the `extract_input` and `extract_grid_input` fucntions."
   ]
  },
  {
   "cell_type": "code",
   "execution_count": null,
   "metadata": {
    "scrolled": true
   },
   "outputs": [],
   "source": [
    "experiment_numbers, input_path, output_path, background_scatter_path, background_scatter_multiple = analysis.extract_input(config_path)\n",
    "\n",
    "shape_x, shape_y, sample_numbers, start_points, end_points = grid_analysis.extract_grid_input(config_path)"
   ]
  },
  {
   "cell_type": "markdown",
   "metadata": {},
   "source": [
    "Using the `grid_tiff_intensity` function we can calculate the maximum and average intensities from a series of diffraction pattern images, and then plot the intensities as a grid of spatial (X,Y) measurement points, with a defined size.\n",
    "\n",
    "In this case, we scanned the synchrotron X-ray beam in a grid of spatial (X,Y) points to cover a matrix of 30x highly textured Ti-6Al-4V metallographic samples. By plotting the spatial distribution of the maximum and average intensity, we are hoping to find a noticeable drop in intensity, which will help us distinguish the rectangular edges of these different samples."
   ]
  },
  {
   "cell_type": "code",
   "execution_count": null,
   "metadata": {
    "scrolled": true
   },
   "outputs": [],
   "source": [
    "experiment_number = str(experiment_numbers[0])\n",
    "input_filepath = input_path.format(experiment_number = experiment_number)\n",
    "output_filepath = output_path.format(experiment_number = experiment_number) + \"intensity_maps/\"\n",
    "c_map = \"Reds\"\n",
    "\n",
    "grid_analysis.grid_tiff_intensity(experiment_number, input_filepath, output_filepath, \n",
    "                                  shape_x, shape_y, c_map)"
   ]
  },
  {
   "cell_type": "markdown",
   "metadata": {},
   "source": [
    "Recording the start and end (X,Y) points for each of the samples will then allow us to separate out the diffraction pattern images.\n",
    "\n",
    "We can plot these points, to check we have not made an error in discerning our samples."
   ]
  },
  {
   "cell_type": "code",
   "execution_count": null,
   "metadata": {
    "scrolled": true
   },
   "outputs": [],
   "source": [
    "grid_analysis.plot_grid_points(experiment_number, output_filepath,\n",
    "                               start_points, end_points, \n",
    "                               shape_x, shape_y)"
   ]
  },
  {
   "cell_type": "markdown",
   "metadata": {},
   "source": [
    "Now we are happy with our selection of points, we can loop through our collection of samples, as defined by the start and end points. \n",
    "\n",
    "The `avg_tiff_images_grid` function allows us to iterate through each of our samples in turn, to create an average tiff image from each series of patterns. This also outputs a text file recording the image numbers we have combined for each sample, to check we have averaged the correct set of images."
   ]
  },
  {
   "cell_type": "code",
   "execution_count": null,
   "metadata": {
    "scrolled": false
   },
   "outputs": [],
   "source": [
    "experiment_number = str(experiment_numbers[0])\n",
    "input_filepath = input_path.format(experiment_number = experiment_number)\n",
    "output_filepath = output_path.format(experiment_number = experiment_number)\n",
    "v_max = 500\n",
    "\n",
    "grid_analysis.avg_tiff_images_grid(experiment_number, input_filepath, output_filepath, v_max,\n",
    "                                   sample_numbers, start_points, end_points, \n",
    "                                   shape_x)"
   ]
  },
  {
   "cell_type": "markdown",
   "metadata": {},
   "source": [
    "We can reload these summed/averaged tiff images to check the image properties.\n",
    "\n",
    "*Note, check the sample number.*"
   ]
  },
  {
   "cell_type": "code",
   "execution_count": null,
   "metadata": {
    "scrolled": true
   },
   "outputs": [],
   "source": [
    "output_filepath = output_path.format(experiment_number = experiment_numbers[0])\n",
    "image=io.imread(f\"{output_filepath}sample_21/{experiment_numbers[0]}_summed1.tiff\")\n",
    "plt.imshow(image, cmap='gray', vmin = 0, vmax = 500);\n",
    "\n",
    "image_array = np.array(image, dtype='int32')\n",
    "print(image_array)\n",
    "image_array.dtype"
   ]
  },
  {
   "cell_type": "code",
   "execution_count": null,
   "metadata": {
    "scrolled": true
   },
   "outputs": [],
   "source": []
  }
 ],
 "metadata": {
  "kernelspec": {
   "display_name": "Python 3 (ipykernel)",
   "language": "python",
   "name": "python3"
  },
  "language_info": {
   "codemirror_mode": {
    "name": "ipython",
    "version": 3
   },
   "file_extension": ".py",
   "mimetype": "text/x-python",
   "name": "python",
   "nbconvert_exporter": "python",
   "pygments_lexer": "ipython3",
   "version": "3.7.3"
  }
 },
 "nbformat": 4,
 "nbformat_minor": 4
}
